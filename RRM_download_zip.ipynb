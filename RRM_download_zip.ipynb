{
  "nbformat": 4,
  "nbformat_minor": 0,
  "metadata": {
    "colab": {
      "provenance": []
    },
    "kernelspec": {
      "name": "python3",
      "display_name": "Python 3"
    },
    "language_info": {
      "name": "python"
    }
  },
  "cells": [
    {
      "cell_type": "markdown",
      "source": [
        "Voer onderstaande script uit om de Google Drive te koppelen. Je moet hiervoor inloggen via een pop-up. Daarna moet de map \"drive\" beschikbaar zijn via het menu links \"Bestanden\""
      ],
      "metadata": {
        "id": "KhujqMqn2DPc"
      }
    },
    {
      "cell_type": "code",
      "source": [
        "from google.colab import drive\n",
        "drive.mount('/content/drive')"
      ],
      "metadata": {
        "colab": {
          "base_uri": "https://localhost:8080/"
        },
        "id": "d83ZY62q3La1",
        "outputId": "470b12a6-f433-4c8c-a3f9-b90d8665f47c"
      },
      "execution_count": 1,
      "outputs": [
        {
          "output_type": "stream",
          "name": "stdout",
          "text": [
            "Drive already mounted at /content/drive; to attempt to forcibly remount, call drive.mount(\"/content/drive\", force_remount=True).\n"
          ]
        }
      ]
    },
    {
      "cell_type": "code",
      "source": [
        "import os\n",
        "import shutil\n",
        "import zipfile\n",
        "from tqdm import tqdm\n",
        "\n",
        "# Create a temporary directory\n",
        "temp_dir = '/content/temp_zip_dir'\n",
        "os.makedirs(temp_dir, exist_ok=True)\n",
        "\n",
        "zip_file_name = 'excel_files.zip'\n",
        "\n",
        "def find_and_zip_excel(directory):\n",
        "    with tqdm(desc=\"Processing Excel files, found\", unit=' files') as pbar:\n",
        "        with zipfile.ZipFile(zip_file_name, 'w', zipfile.ZIP_DEFLATED) as zipf:\n",
        "            for root, _, files in os.walk(directory):\n",
        "                for file in files:\n",
        "                    if file.endswith(\".xlsx\") or file.endswith(\".xls\"):\n",
        "                        root_dir = root.replace(directory + '/', '')\n",
        "                        os.makedirs(temp_dir + '/' + root_dir, exist_ok=True)\n",
        "                        shutil.copy2(os.path.join(root, file), temp_dir + '/' + root.replace(directory + '/', '') + '/' + file)\n",
        "                        pbar.update(1)\n",
        "            for root, _, files in os.walk(temp_dir):\n",
        "                for file in files:\n",
        "                    file_path = os.path.join(root, file)\n",
        "                    zipf.write(file_path, os.path.relpath(file_path, temp_dir))\n",
        "\n",
        "\n",
        "find_and_zip_excel('/content/drive/Shareddrives/Systematische Retroreflectiemetingen/Meetjaar 2024')\n",
        "\n",
        "# Remove the temporary directory\n",
        "shutil.rmtree(temp_dir)\n",
        "\n",
        "print(f\"Zip archive created: {zip_file_name}\")\n",
        "\n",
        "from google.colab import files\n",
        "files.download(zip_file_name)"
      ],
      "metadata": {
        "colab": {
          "base_uri": "https://localhost:8080/",
          "height": 228
        },
        "id": "sKmcPYEn30Jy",
        "outputId": "d654d1b7-d4ef-441f-c81f-d07845238729"
      },
      "execution_count": 2,
      "outputs": [
        {
          "output_type": "stream",
          "name": "stderr",
          "text": [
            "Processing Excel files, found: 125 files [07:40,  3.69s/ files]\n"
          ]
        },
        {
          "output_type": "error",
          "ename": "NameError",
          "evalue": "name 'zip_file_name' is not defined",
          "traceback": [
            "\u001b[0;31m---------------------------------------------------------------------------\u001b[0m",
            "\u001b[0;31mNameError\u001b[0m                                 Traceback (most recent call last)",
            "\u001b[0;32m<ipython-input-2-c8376c944558>\u001b[0m in \u001b[0;36m<cell line: 0>\u001b[0;34m()\u001b[0m\n\u001b[1;32m     38\u001b[0m \u001b[0mshutil\u001b[0m\u001b[0;34m.\u001b[0m\u001b[0mrmtree\u001b[0m\u001b[0;34m(\u001b[0m\u001b[0mtemp_dir\u001b[0m\u001b[0;34m)\u001b[0m\u001b[0;34m\u001b[0m\u001b[0;34m\u001b[0m\u001b[0m\n\u001b[1;32m     39\u001b[0m \u001b[0;34m\u001b[0m\u001b[0m\n\u001b[0;32m---> 40\u001b[0;31m \u001b[0mprint\u001b[0m\u001b[0;34m(\u001b[0m\u001b[0;34mf\"Zip archive created: {zip_file_name}\"\u001b[0m\u001b[0;34m)\u001b[0m\u001b[0;34m\u001b[0m\u001b[0;34m\u001b[0m\u001b[0m\n\u001b[0m\u001b[1;32m     41\u001b[0m \u001b[0;34m\u001b[0m\u001b[0m\n\u001b[1;32m     42\u001b[0m \u001b[0;32mfrom\u001b[0m \u001b[0mgoogle\u001b[0m\u001b[0;34m.\u001b[0m\u001b[0mcolab\u001b[0m \u001b[0;32mimport\u001b[0m \u001b[0mfiles\u001b[0m\u001b[0;34m\u001b[0m\u001b[0;34m\u001b[0m\u001b[0m\n",
            "\u001b[0;31mNameError\u001b[0m: name 'zip_file_name' is not defined"
          ]
        }
      ]
    }
  ]
}